{
 "cells": [
  {
   "cell_type": "code",
   "execution_count": 1,
   "metadata": {},
   "outputs": [],
   "source": [
    "import pandas as pd\n",
    "import numpy as np\n",
    "import matplotlib.pyplot as plt\n",
    "from sklearn.model_selection import train_test_split\n",
    "from sklearn.linear_model import LinearRegression\n",
    "from sklearn.metrics import mean_squared_error, r2_score"
   ]
  },
  {
   "cell_type": "code",
   "execution_count": 2,
   "metadata": {},
   "outputs": [],
   "source": [
    "df = pd.read_csv(\"FuelConsumptionCo2.csv\")"
   ]
  },
  {
   "cell_type": "code",
   "execution_count": 4,
   "metadata": {},
   "outputs": [
    {
     "data": {
      "text/html": [
       "<div>\n",
       "<style scoped>\n",
       "    .dataframe tbody tr th:only-of-type {\n",
       "        vertical-align: middle;\n",
       "    }\n",
       "\n",
       "    .dataframe tbody tr th {\n",
       "        vertical-align: top;\n",
       "    }\n",
       "\n",
       "    .dataframe thead th {\n",
       "        text-align: right;\n",
       "    }\n",
       "</style>\n",
       "<table border=\"1\" class=\"dataframe\">\n",
       "  <thead>\n",
       "    <tr style=\"text-align: right;\">\n",
       "      <th></th>\n",
       "      <th>MODELYEAR</th>\n",
       "      <th>MAKE</th>\n",
       "      <th>MODEL</th>\n",
       "      <th>VEHICLECLASS</th>\n",
       "      <th>ENGINESIZE</th>\n",
       "      <th>CYLINDERS</th>\n",
       "      <th>TRANSMISSION</th>\n",
       "      <th>FUELTYPE</th>\n",
       "      <th>FUELCONSUMPTION_CITY</th>\n",
       "      <th>FUELCONSUMPTION_HWY</th>\n",
       "      <th>FUELCONSUMPTION_COMB</th>\n",
       "      <th>FUELCONSUMPTION_COMB_MPG</th>\n",
       "      <th>CO2EMISSIONS</th>\n",
       "    </tr>\n",
       "  </thead>\n",
       "  <tbody>\n",
       "    <tr>\n",
       "      <td>0</td>\n",
       "      <td>2014</td>\n",
       "      <td>ACURA</td>\n",
       "      <td>ILX</td>\n",
       "      <td>COMPACT</td>\n",
       "      <td>2.0</td>\n",
       "      <td>4</td>\n",
       "      <td>AS5</td>\n",
       "      <td>Z</td>\n",
       "      <td>9.9</td>\n",
       "      <td>6.7</td>\n",
       "      <td>8.5</td>\n",
       "      <td>33</td>\n",
       "      <td>196</td>\n",
       "    </tr>\n",
       "    <tr>\n",
       "      <td>1</td>\n",
       "      <td>2014</td>\n",
       "      <td>ACURA</td>\n",
       "      <td>ILX</td>\n",
       "      <td>COMPACT</td>\n",
       "      <td>2.4</td>\n",
       "      <td>4</td>\n",
       "      <td>M6</td>\n",
       "      <td>Z</td>\n",
       "      <td>11.2</td>\n",
       "      <td>7.7</td>\n",
       "      <td>9.6</td>\n",
       "      <td>29</td>\n",
       "      <td>221</td>\n",
       "    </tr>\n",
       "    <tr>\n",
       "      <td>2</td>\n",
       "      <td>2014</td>\n",
       "      <td>ACURA</td>\n",
       "      <td>ILX HYBRID</td>\n",
       "      <td>COMPACT</td>\n",
       "      <td>1.5</td>\n",
       "      <td>4</td>\n",
       "      <td>AV7</td>\n",
       "      <td>Z</td>\n",
       "      <td>6.0</td>\n",
       "      <td>5.8</td>\n",
       "      <td>5.9</td>\n",
       "      <td>48</td>\n",
       "      <td>136</td>\n",
       "    </tr>\n",
       "    <tr>\n",
       "      <td>3</td>\n",
       "      <td>2014</td>\n",
       "      <td>ACURA</td>\n",
       "      <td>MDX 4WD</td>\n",
       "      <td>SUV - SMALL</td>\n",
       "      <td>3.5</td>\n",
       "      <td>6</td>\n",
       "      <td>AS6</td>\n",
       "      <td>Z</td>\n",
       "      <td>12.7</td>\n",
       "      <td>9.1</td>\n",
       "      <td>11.1</td>\n",
       "      <td>25</td>\n",
       "      <td>255</td>\n",
       "    </tr>\n",
       "    <tr>\n",
       "      <td>4</td>\n",
       "      <td>2014</td>\n",
       "      <td>ACURA</td>\n",
       "      <td>RDX AWD</td>\n",
       "      <td>SUV - SMALL</td>\n",
       "      <td>3.5</td>\n",
       "      <td>6</td>\n",
       "      <td>AS6</td>\n",
       "      <td>Z</td>\n",
       "      <td>12.1</td>\n",
       "      <td>8.7</td>\n",
       "      <td>10.6</td>\n",
       "      <td>27</td>\n",
       "      <td>244</td>\n",
       "    </tr>\n",
       "  </tbody>\n",
       "</table>\n",
       "</div>"
      ],
      "text/plain": [
       "   MODELYEAR   MAKE       MODEL VEHICLECLASS  ENGINESIZE  CYLINDERS  \\\n",
       "0       2014  ACURA         ILX      COMPACT         2.0          4   \n",
       "1       2014  ACURA         ILX      COMPACT         2.4          4   \n",
       "2       2014  ACURA  ILX HYBRID      COMPACT         1.5          4   \n",
       "3       2014  ACURA     MDX 4WD  SUV - SMALL         3.5          6   \n",
       "4       2014  ACURA     RDX AWD  SUV - SMALL         3.5          6   \n",
       "\n",
       "  TRANSMISSION FUELTYPE  FUELCONSUMPTION_CITY  FUELCONSUMPTION_HWY  \\\n",
       "0          AS5        Z                   9.9                  6.7   \n",
       "1           M6        Z                  11.2                  7.7   \n",
       "2          AV7        Z                   6.0                  5.8   \n",
       "3          AS6        Z                  12.7                  9.1   \n",
       "4          AS6        Z                  12.1                  8.7   \n",
       "\n",
       "   FUELCONSUMPTION_COMB  FUELCONSUMPTION_COMB_MPG  CO2EMISSIONS  \n",
       "0                   8.5                        33           196  \n",
       "1                   9.6                        29           221  \n",
       "2                   5.9                        48           136  \n",
       "3                  11.1                        25           255  \n",
       "4                  10.6                        27           244  "
      ]
     },
     "execution_count": 4,
     "metadata": {},
     "output_type": "execute_result"
    }
   ],
   "source": [
    "df.head()"
   ]
  },
  {
   "cell_type": "code",
   "execution_count": 63,
   "metadata": {},
   "outputs": [
    {
     "data": {
      "image/png": "[encoded data removed]",
      "text/plain": [
       "<Figure size 432x288 with 1 Axes>"
      ]
     },
     "metadata": {
      "needs_background": "light"
     },
     "output_type": "display_data"
    }
   ],
   "source": [
    "plt.scatter(df['ENGINESIZE'], df['CYLINDERS'], df['CO2EMISSIONS'], color='blue')\n",
    "plt.show()"
   ]
  },
  {
   "cell_type": "code",
   "execution_count": 64,
   "metadata": {},
   "outputs": [],
   "source": [
    "x = df[['ENGINESIZE','CYLINDERS']].values\n",
    "y = df[['CO2EMISSIONS']].values"
   ]
  },
  {
   "cell_type": "code",
   "execution_count": 65,
   "metadata": {},
   "outputs": [],
   "source": [
    "def normalize(array): \n",
    "    return (array - array.mean()) / array.std()"
   ]
  },
  {
   "cell_type": "code",
   "execution_count": 66,
   "metadata": {
    "scrolled": true
   },
   "outputs": [],
   "source": [
    "x = normalize(x)\n",
    "y = normalize(y)"
   ]
  },
  {
   "cell_type": "code",
   "execution_count": 67,
   "metadata": {},
   "outputs": [
    {
     "data": {
      "text/plain": [
       "array([[-1.26731973, -0.28128006],\n",
       "       [-1.0701118 , -0.28128006],\n",
       "       [-1.51382965, -0.28128006],\n",
       "       ...,\n",
       "       [-0.7742999 ,  0.70475961],\n",
       "       [-0.67569593,  0.70475961],\n",
       "       [-0.67569593,  0.70475961]])"
      ]
     },
     "execution_count": 67,
     "metadata": {},
     "output_type": "execute_result"
    }
   ],
   "source": [
    "x"
   ]
  },
  {
   "cell_type": "code",
   "execution_count": 68,
   "metadata": {},
   "outputs": [],
   "source": [
    "x_train, x_test, y_train, y_test = train_test_split(x,y, test_size=0.2, random_state=0)"
   ]
  },
  {
   "cell_type": "code",
   "execution_count": 69,
   "metadata": {},
   "outputs": [],
   "source": [
    "reg = LinearRegression()\n",
    "reg = reg.fit(x_train, y_train)"
   ]
  },
  {
   "cell_type": "code",
   "execution_count": 70,
   "metadata": {},
   "outputs": [],
   "source": [
    "y_pred = reg.predict(x_test)"
   ]
  },
  {
   "cell_type": "code",
   "execution_count": 71,
   "metadata": {},
   "outputs": [
    {
     "data": {
      "text/plain": [
       "array([[ 1.31017923],\n",
       "       [-0.65588487],\n",
       "       [-0.65588487],\n",
       "       [-0.24622915],\n",
       "       [-0.61001476],\n",
       "       [ 0.80560806],\n",
       "       [-0.65588487],\n",
       "       [ 0.16660181],\n",
       "       [-0.65588487],\n",
       "       [ 1.0808287 ],\n",
       "       [ 0.16660181],\n",
       "       [ 1.90649062],\n",
       "       [-0.10861883],\n",
       "       [ 0.80560806],\n",
       "       [-1.11458594],\n",
       "       [ 0.62212763],\n",
       "       [ 0.98908849],\n",
       "       [-1.02284572],\n",
       "       [ 0.1207317 ],\n",
       "       [ 2.3588412 ],\n",
       "       [-0.93110551],\n",
       "       [ 0.1207317 ],\n",
       "       [ 0.1207317 ],\n",
       "       [-0.8393653 ],\n",
       "       [-0.61001476],\n",
       "       [-0.10861883],\n",
       "       [ 0.25834202],\n",
       "       [ 1.21843902],\n",
       "       [ 1.31017923],\n",
       "       [-0.8393653 ],\n",
       "       [ 1.35604934],\n",
       "       [-0.61001476],\n",
       "       [ 0.1207317 ],\n",
       "       [-0.10861883],\n",
       "       [-0.93110551],\n",
       "       [-1.02284572],\n",
       "       [ 1.40191945],\n",
       "       [-0.65588487],\n",
       "       [-0.51827455],\n",
       "       [ 0.16660181],\n",
       "       [-0.93110551],\n",
       "       [-0.93110551],\n",
       "       [-0.65588487],\n",
       "       [-0.8393653 ],\n",
       "       [ 1.31017923],\n",
       "       [-0.8393653 ],\n",
       "       [-0.65588487],\n",
       "       [-1.02284572],\n",
       "       [ 1.21843902],\n",
       "       [ 2.03775046],\n",
       "       [ 0.94321838],\n",
       "       [ 0.21247192],\n",
       "       [ 0.16660181],\n",
       "       [-0.93110551],\n",
       "       [-0.65588487],\n",
       "       [-1.02284572],\n",
       "       [ 0.89734827],\n",
       "       [-0.93110551],\n",
       "       [-0.01687862],\n",
       "       [-0.8393653 ],\n",
       "       [-1.02284572],\n",
       "       [-0.61001476],\n",
       "       [-0.8393653 ],\n",
       "       [ 1.21843902],\n",
       "       [ 0.16660181],\n",
       "       [ 0.98908849],\n",
       "       [ 1.0808287 ],\n",
       "       [ 0.16660181],\n",
       "       [-1.02284572],\n",
       "       [-1.11458594],\n",
       "       [ 1.44778955],\n",
       "       [ 0.1207317 ],\n",
       "       [ 0.94321838],\n",
       "       [ 1.21843902],\n",
       "       [ 0.80560806],\n",
       "       [-0.65588487],\n",
       "       [ 0.16660181],\n",
       "       [-0.8393653 ],\n",
       "       [-0.8393653 ],\n",
       "       [-0.8393653 ],\n",
       "       [-1.06871583],\n",
       "       [ 0.21247192],\n",
       "       [-0.93110551],\n",
       "       [ 0.53038742],\n",
       "       [ 0.71386785],\n",
       "       [ 0.0748616 ],\n",
       "       [-1.11458594],\n",
       "       [-1.11458594],\n",
       "       [ 1.0808287 ],\n",
       "       [ 1.63126998],\n",
       "       [-0.10861883],\n",
       "       [-0.8393653 ],\n",
       "       [-0.8393653 ],\n",
       "       [ 1.0808287 ],\n",
       "       [ 1.40191945],\n",
       "       [ 1.26430913],\n",
       "       [-0.61001476],\n",
       "       [ 0.1207317 ],\n",
       "       [ 2.3588412 ],\n",
       "       [ 0.02899149],\n",
       "       [-0.65588487],\n",
       "       [ 0.98908849],\n",
       "       [-0.93110551],\n",
       "       [-0.93110551],\n",
       "       [-1.02284572],\n",
       "       [-1.11458594],\n",
       "       [-0.8393653 ],\n",
       "       [ 0.1207317 ],\n",
       "       [-1.02284572],\n",
       "       [ 0.16660181],\n",
       "       [-1.02284572],\n",
       "       [-0.8393653 ],\n",
       "       [ 0.21247192],\n",
       "       [ 0.1207317 ],\n",
       "       [ 0.94321838],\n",
       "       [-0.01687862],\n",
       "       [ 1.21843902],\n",
       "       [ 0.1207317 ],\n",
       "       [ 1.44461431],\n",
       "       [-1.02284572],\n",
       "       [ 0.25834202],\n",
       "       [-0.8393653 ],\n",
       "       [ 1.63126998],\n",
       "       [-1.43408906],\n",
       "       [-1.02284572],\n",
       "       [ 0.35008224],\n",
       "       [ 0.16660181],\n",
       "       [ 0.16660181],\n",
       "       [-0.10861883],\n",
       "       [ 0.1207317 ],\n",
       "       [ 0.1207317 ],\n",
       "       [ 0.98908849],\n",
       "       [-0.8393653 ],\n",
       "       [-1.06871583],\n",
       "       [ 1.21843902],\n",
       "       [ 1.40191945],\n",
       "       [ 0.16660181],\n",
       "       [-0.93110551],\n",
       "       [-0.61001476],\n",
       "       [-0.47399206],\n",
       "       [ 1.0808287 ],\n",
       "       [-0.93110551],\n",
       "       [ 1.0808287 ],\n",
       "       [ 1.26430913],\n",
       "       [-0.93110551],\n",
       "       [-0.61001476],\n",
       "       [-0.10861883],\n",
       "       [ 1.35604934],\n",
       "       [ 1.31017923],\n",
       "       [-0.61001476],\n",
       "       [-1.02284572],\n",
       "       [ 0.1207317 ],\n",
       "       [-1.02284572],\n",
       "       [-0.01687862],\n",
       "       [ 1.0808287 ],\n",
       "       [ 0.16660181],\n",
       "       [ 0.35008224],\n",
       "       [-0.8393653 ],\n",
       "       [ 1.63126998],\n",
       "       [ 0.16660181],\n",
       "       [-1.02284572],\n",
       "       [-0.8393653 ],\n",
       "       [-1.02284572],\n",
       "       [ 0.1207317 ],\n",
       "       [ 0.1207317 ],\n",
       "       [-1.02284572],\n",
       "       [ 1.0808287 ],\n",
       "       [-1.02284572],\n",
       "       [ 1.44461431],\n",
       "       [ 1.21843902],\n",
       "       [-0.01687862],\n",
       "       [ 0.1207317 ],\n",
       "       [ 0.21247192],\n",
       "       [ 1.40191945],\n",
       "       [ 0.62212763],\n",
       "       [ 0.16660181],\n",
       "       [ 0.21247192],\n",
       "       [ 0.1207317 ],\n",
       "       [-1.02284572],\n",
       "       [ 1.0808287 ],\n",
       "       [ 1.63126998],\n",
       "       [-1.11458594],\n",
       "       [ 1.21843902],\n",
       "       [-1.02284572],\n",
       "       [ 0.48769256],\n",
       "       [ 0.48769256],\n",
       "       [-0.93110551],\n",
       "       [ 0.94321838],\n",
       "       [-1.02284572],\n",
       "       [ 1.0808287 ],\n",
       "       [ 0.21247192],\n",
       "       [ 0.02899149],\n",
       "       [ 0.0748616 ],\n",
       "       [-0.10861883],\n",
       "       [-0.65588487],\n",
       "       [ 0.94321838],\n",
       "       [-0.24622915],\n",
       "       [-0.65588487],\n",
       "       [-0.65588487],\n",
       "       [ 1.21843902],\n",
       "       [ 0.21247192],\n",
       "       [-0.65588487],\n",
       "       [-0.33796937],\n",
       "       [ 1.63126998],\n",
       "       [ 0.62212763],\n",
       "       [ 0.62212763],\n",
       "       [ 0.16660181],\n",
       "       [-0.10861883],\n",
       "       [ 1.21843902],\n",
       "       [-0.8393653 ],\n",
       "       [-0.8393653 ],\n",
       "       [-1.02284572],\n",
       "       [-1.02284572],\n",
       "       [-1.11458594]])"
      ]
     },
     "execution_count": 71,
     "metadata": {},
     "output_type": "execute_result"
    }
   ],
   "source": [
    "y_pred"
   ]
  },
  {
   "cell_type": "code",
   "execution_count": 72,
   "metadata": {},
   "outputs": [
    {
     "data": {
      "text/plain": [
       "array([[0.93039069, 0.27589701]])"
      ]
     },
     "execution_count": 72,
     "metadata": {},
     "output_type": "execute_result"
    }
   ],
   "source": [
    "reg.coef_"
   ]
  },
  {
   "cell_type": "code",
   "execution_count": 73,
   "metadata": {},
   "outputs": [
    {
     "data": {
      "text/plain": [
       "array([0.41734152])"
      ]
     },
     "execution_count": 73,
     "metadata": {},
     "output_type": "execute_result"
    }
   ],
   "source": [
    "reg.intercept_"
   ]
  },
  {
   "cell_type": "code",
   "execution_count": 74,
   "metadata": {},
   "outputs": [
    {
     "data": {
      "text/plain": [
       "0.28224453907479885"
      ]
     },
     "execution_count": 74,
     "metadata": {},
     "output_type": "execute_result"
    }
   ],
   "source": [
    "mean_squared_error(y_test, y_pred)"
   ]
  },
  {
   "cell_type": "code",
   "execution_count": 75,
   "metadata": {},
   "outputs": [
    {
     "data": {
      "text/plain": [
       "0.7317424009882993"
      ]
     },
     "execution_count": 75,
     "metadata": {},
     "output_type": "execute_result"
    }
   ],
   "source": [
    "r2_score(y_test, y_pred)"
   ]
  },
  {
   "cell_type": "code",
   "execution_count": null,
   "metadata": {},
   "outputs": [],
   "source": []
  }
 ],
 "metadata": {
  "kernelspec": {
   "display_name": "Python 3",
   "language": "python",
   "name": "python3"
  },
  "language_info": {
   "codemirror_mode": {
    "name": "ipython",
    "version": 3
   },
   "file_extension": ".py",
   "mimetype": "text/x-python",
   "name": "python",
   "nbconvert_exporter": "python",
   "pygments_lexer": "ipython3",
   "version": "3.7.4"
  }
 },
 "nbformat": 4,
 "nbformat_minor": 2
}
